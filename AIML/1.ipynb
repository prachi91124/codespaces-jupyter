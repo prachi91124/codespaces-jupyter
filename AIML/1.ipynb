{
 "cells": [
  {
   "cell_type": "markdown",
   "metadata": {},
   "source": [
    "# To Show List Of Keywords"
   ]
  },
  {
   "cell_type": "code",
   "execution_count": null,
   "metadata": {},
   "outputs": [],
   "source": [
    "import keyword\n",
    "print(keyword.kwlist)"
   ]
  },
  {
   "cell_type": "markdown",
   "metadata": {},
   "source": [
    "# Comment\n",
    "\" # \" = Single Line Comment\n",
    "\n",
    "\"\"\" \"\"\" = Multi Line Comments"
   ]
  },
  {
   "cell_type": "markdown",
   "metadata": {},
   "source": [
    "# Data Types\n",
    "\n",
    "-> Numeric Types = int, float, complex\n",
    "\n",
    "-> Sequence Types = list, tuple, range\n",
    "\n",
    "-> Mapping Type = dict\n",
    "\n",
    "-> Set Types = set, frozenset\n",
    "\n",
    "-> Boolean Type = bool\n",
    "\n",
    "-> Binary Types = bytes, bytearray, memoryview\n",
    "\n",
    "-> None Type = NoneType \n",
    "\n",
    "# Complex Data Type\n",
    "iota in Python is Denoted by \"j\""
   ]
  },
  {
   "cell_type": "code",
   "execution_count": null,
   "metadata": {},
   "outputs": [],
   "source": [
    "a=1+2j\n",
    "print(a, type(a))"
   ]
  },
  {
   "cell_type": "markdown",
   "metadata": {},
   "source": [
    "# Operators\n",
    "\n",
    "-> Arithmetic: =,-,*,/,%,//,**\n",
    "\n",
    "-> Relational: ==, <=,>=,!=\n",
    "\n",
    "-> Logical: and, or, not\n",
    "\n",
    "-> Bitwise: &, |, ~, ^,<<,>>\n",
    "\n",
    "-> Assignment: =, +=, -=, _\n",
    "\n",
    "-> Special: is, is not, not in( shouldnot present), in(search)"
   ]
  },
  {
   "cell_type": "markdown",
   "metadata": {},
   "source": [
    "# IF ELSE\n",
    "\n",
    "-> if_else\n",
    "\n",
    "-> if_ elif__else\n",
    "\n",
    "-> Nested if"
   ]
  },
  {
   "cell_type": "code",
   "execution_count": 1,
   "metadata": {},
   "outputs": [
    {
     "name": "stdout",
     "output_type": "stream",
     "text": [
      "a is smaller than b\n",
      "hello\n"
     ]
    }
   ],
   "source": [
    "a = 10;\n",
    "b = 20;\n",
    "if a<b:\n",
    "    print('a is smaller than b')\n",
    "    print('hello')\n",
    "else:\n",
    "    print(\"a is greater than b\")"
   ]
  },
  {
   "cell_type": "markdown",
   "metadata": {},
   "source": [
    "# Practice Questions"
   ]
  },
  {
   "cell_type": "markdown",
   "metadata": {
    "tags": [
     "parameters"
    ]
   },
   "source": [
    "Tell if the given number is prime number or not using while loop without flag"
   ]
  },
  {
   "cell_type": "code",
   "execution_count": 3,
   "metadata": {},
   "outputs": [
    {
     "name": "stdout",
     "output_type": "stream",
     "text": [
      "Number is Prime\n"
     ]
    }
   ],
   "source": [
    "n = int(input(\"Enter a Number: \"));\n",
    "i=2;\n",
    "while(i<n):\n",
    "    if(n%i==0):\n",
    "        print(\"Not A Prime Number\")\n",
    "        break\n",
    "    i=i+1\n",
    "else:\n",
    "    print(\"Number is Prime\")   "
   ]
  }
 ],
 "metadata": {
  "kernelspec": {
   "display_name": "Python 3",
   "language": "python",
   "name": "python3"
  },
  "language_info": {
   "codemirror_mode": {
    "name": "ipython",
    "version": 3
   },
   "file_extension": ".py",
   "mimetype": "text/x-python",
   "name": "python",
   "nbconvert_exporter": "python",
   "pygments_lexer": "ipython3",
   "version": "3.12.1"
  }
 },
 "nbformat": 4,
 "nbformat_minor": 2
}
